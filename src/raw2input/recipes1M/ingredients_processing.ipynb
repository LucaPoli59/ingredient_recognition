{
 "cells": [
  {
   "cell_type": "code",
   "id": "initial_id",
   "metadata": {
    "collapsed": true,
    "ExecuteTime": {
     "end_time": "2024-09-01T17:56:44.234377Z",
     "start_time": "2024-09-01T17:56:41.741165Z"
    }
   },
   "source": [
    "import pandas as pd\n",
    "import json\n",
    "import nltk\n",
    "import os\n",
    "\n",
    "from config import METADATA_FILENAME\n",
    "from settings.config import RECIPES1M_PATH"
   ],
   "outputs": [],
   "execution_count": 1
  },
  {
   "metadata": {
    "ExecuteTime": {
     "end_time": "2024-09-01T17:56:46.015376Z",
     "start_time": "2024-09-01T17:56:44.259376Z"
    }
   },
   "cell_type": "code",
   "source": [
    "path = os.path.join(RECIPES1M_PATH, \"train\", METADATA_FILENAME)\n",
    "\n",
    "recipes = json.load(open(path, 'r'))\n",
    "recipes_df = pd.DataFrame(recipes)\n",
    "recipes_df['ingredients_ner'].head(30)"
   ],
   "id": "302a7ffe0dece978",
   "outputs": [
    {
     "data": {
      "text/plain": [
       "0     [flank steak, green onions, red wine, soy sauc...\n",
       "1     [rosemary, thyme, bay leaves, paprika, pepper,...\n",
       "2     [Flour, Salt, Baking Powder, Sugar, Crisco, eg...\n",
       "3                    [sugar, orange juice, lemon juice]\n",
       "4     [orange with skin, water, sugar, cinnamon stic...\n",
       "5     [Gravy ingredients, garlic, Gravy ingredients,...\n",
       "6     [ground beef, onion, tastebuds, ketchup, brown...\n",
       "7     [pie shell, milk, sugar, orange rind, strawber...\n",
       "8                                      [rhubarb, sugar]\n",
       "9     [sugar, water, active dry yeast, milk, water, ...\n",
       "10    [peaches, pineapple, syrup, sugar, strawberrie...\n",
       "11    [Water, Sugar, Orange Juice, Lemon Juice, Bana...\n",
       "12                      [water, sugar, nectar, peaches]\n",
       "13    [vegetable oil spray, pine nuts, sugar, flour,...\n",
       "14    [brisket, salt, extra virgin olive oil, Barbec...\n",
       "15    [flour, baking soda, salt, butter, white sugar...\n",
       "16    [pasta, onion, garlic, olive oil, flat anchovy...\n",
       "17    [orange marmalade, soy sauce, red pepper, wate...\n",
       "18    [ranch style beans, beans, green bell pepper, ...\n",
       "19    [rice, butter, flour, milk, eggs, spinach, gre...\n",
       "20    [Flour, Sugar, Baking cocoa, Salt, Salad oil, ...\n",
       "21    [active dry yeast, warm water, honey, whole wh...\n",
       "22    [PHILADELPHIA Cream Cheese, honey, ground cinn...\n",
       "23    [butternut squash, red apples, lemon juice, on...\n",
       "24    [Garlic, Olive Oil, Mint Leaves, Shrimp, Fish ...\n",
       "25         [garlic, olive oil, rice wine vinegar, salt]\n",
       "26    [regular fudge brownie mix, water, butter, egg...\n",
       "27    [Honey, Water, Lemon Juice, Fresh Ginger, Fres...\n",
       "28    [flour, coarse salt, unsalted butter, sugar, l...\n",
       "29    [Cocoa, Flour, Brown Sugar, Baking Powder, Bak...\n",
       "Name: ingredients_ner, dtype: object"
      ]
     },
     "execution_count": 2,
     "metadata": {},
     "output_type": "execute_result"
    }
   ],
   "execution_count": 2
  },
  {
   "metadata": {
    "ExecuteTime": {
     "end_time": "2024-09-01T18:03:23.922030Z",
     "start_time": "2024-09-01T18:03:23.884033Z"
    }
   },
   "cell_type": "code",
   "source": [
    "tmp = recipes_df.at[1, 'ingredients_ner']\n",
    "print(tmp)\n",
    "\n",
    "index = 6\n",
    "tmp = tmp[index]\n",
    "print(tmp)\n",
    "\n",
    "tokens = nltk.word_tokenize(tmp)\n",
    "print(tokens)\n",
    "\n",
    "pos = nltk.pos_tag(tokens)\n",
    "pos"
   ],
   "id": "5201e57867f2ed66",
   "outputs": [
    {
     "name": "stdout",
     "output_type": "stream",
     "text": [
      "['rosemary', 'thyme', 'bay leaves', 'paprika', 'pepper', 'red wine', 'chicken broth', 'button mushrooms', 'mushroom mix', 'carrots', 'onion', 'frozen green beans', 'black olives', 'handful grape tomatoes', 'chicken', 'stalks celery', 'water']\n",
      "chicken broth\n",
      "['chicken', 'broth']\n"
     ]
    },
    {
     "ename": "TypeError",
     "evalue": "pos_tag() got an unexpected keyword argument 'tagger'",
     "output_type": "error",
     "traceback": [
      "\u001B[1;31m---------------------------------------------------------------------------\u001B[0m",
      "\u001B[1;31mTypeError\u001B[0m                                 Traceback (most recent call last)",
      "Cell \u001B[1;32mIn[16], line 11\u001B[0m\n\u001B[0;32m      8\u001B[0m tokens \u001B[38;5;241m=\u001B[39m nltk\u001B[38;5;241m.\u001B[39mword_tokenize(tmp)\n\u001B[0;32m      9\u001B[0m \u001B[38;5;28mprint\u001B[39m(tokens)\n\u001B[1;32m---> 11\u001B[0m pos \u001B[38;5;241m=\u001B[39m \u001B[43mnltk\u001B[49m\u001B[38;5;241;43m.\u001B[39;49m\u001B[43mpos_tag\u001B[49m\u001B[43m(\u001B[49m\u001B[43mtokens\u001B[49m\u001B[43m,\u001B[49m\u001B[43m \u001B[49m\u001B[43mtagger\u001B[49m\u001B[38;5;241;43m=\u001B[39;49m\u001B[38;5;124;43m\"\u001B[39;49m\u001B[38;5;124;43maveraged_perceptron\u001B[39;49m\u001B[38;5;124;43m\"\u001B[39;49m\u001B[43m)\u001B[49m\n\u001B[0;32m     12\u001B[0m pos\n",
      "\u001B[1;31mTypeError\u001B[0m: pos_tag() got an unexpected keyword argument 'tagger'"
     ]
    }
   ],
   "execution_count": 16
  },
  {
   "metadata": {
    "ExecuteTime": {
     "end_time": "2024-09-01T18:04:15.109251Z",
     "start_time": "2024-09-01T18:04:08.645253Z"
    }
   },
   "cell_type": "code",
   "source": [
    "import spacy\n",
    "nlp = spacy.load('en_core_web_sm')\n",
    "doc = nlp(tmp)\n",
    "for token in doc:\n",
    "    print(token.text, token.pos_)"
   ],
   "id": "2ec0d832c61b8195",
   "outputs": [
    {
     "name": "stdout",
     "output_type": "stream",
     "text": [
      "chicken NOUN\n",
      "broth NOUN\n"
     ]
    }
   ],
   "execution_count": 17
  },
  {
   "metadata": {
    "ExecuteTime": {
     "end_time": "2024-09-01T17:57:54.891146Z",
     "start_time": "2024-09-01T17:57:50.239144Z"
    }
   },
   "cell_type": "code",
   "source": [
    "lemmatizer = nltk.WordNetLemmatizer()\n",
    "[lemmatizer.lemmatize(word) for word in tokens]"
   ],
   "id": "1f3e686462728e6f",
   "outputs": [
    {
     "data": {
      "text/plain": [
       "['bay', 'leaf']"
      ]
     },
     "execution_count": 7,
     "metadata": {},
     "output_type": "execute_result"
    }
   ],
   "execution_count": 7
  },
  {
   "metadata": {
    "ExecuteTime": {
     "end_time": "2024-09-01T17:19:56.451762Z",
     "start_time": "2024-09-01T17:19:56.434764Z"
    }
   },
   "cell_type": "code",
   "source": "recipes_df['ingredients']",
   "id": "66bcc7b9834eb454",
   "outputs": [
    {
     "data": {
      "text/plain": [
       "0        [1 1/2 pound flank steak, 1/2 c. finely minced...\n",
       "1        [1 tablespoon rosemary, 1 teaspoon thyme, 3 ba...\n",
       "2        [4.5 Cups Flour, 1.5 Tsp Salt, Pinch Baking Po...\n",
       "3        [3/4 cup sugar, 1/2 cup fresh orange juice, 1/...\n",
       "4        [1 large navel orange with skin, 7 cups water,...\n",
       "                               ...                        \n",
       "89977    [3/4 cup almonds, sliced and unblanched, 2-1/4...\n",
       "89978    [1/2 cup sliced strawberries Safeway 1 lb For ...\n",
       "89979    [4 medium artichokes, 2 lemons, halved, 1 cup ...\n",
       "89980    [4 ounces granulated sugar, 3 to 4 tablespoons...\n",
       "89981    [1 teaspoon beef bouillon granules, 1 tablespo...\n",
       "Name: ingredients, Length: 89982, dtype: object"
      ]
     },
     "execution_count": 6,
     "metadata": {},
     "output_type": "execute_result"
    }
   ],
   "execution_count": 6
  },
  {
   "metadata": {
    "ExecuteTime": {
     "end_time": "2024-09-01T18:02:42.123908Z",
     "start_time": "2024-09-01T18:02:41.868823Z"
    }
   },
   "cell_type": "code",
   "source": "nltk.download('universal_tagset')",
   "id": "6e214f5be2754fe2",
   "outputs": [
    {
     "name": "stderr",
     "output_type": "stream",
     "text": [
      "[nltk_data] Downloading package universal_tagset to\n",
      "[nltk_data]     C:\\Users\\polil\\AppData\\Roaming\\nltk_data...\n",
      "[nltk_data]   Unzipping taggers\\universal_tagset.zip.\n"
     ]
    },
    {
     "data": {
      "text/plain": [
       "True"
      ]
     },
     "execution_count": 12,
     "metadata": {},
     "output_type": "execute_result"
    }
   ],
   "execution_count": 12
  },
  {
   "metadata": {},
   "cell_type": "code",
   "outputs": [],
   "execution_count": null,
   "source": "",
   "id": "3aff03c10da391b8"
  }
 ],
 "metadata": {
  "kernelspec": {
   "display_name": "Python 3",
   "language": "python",
   "name": "python3"
  },
  "language_info": {
   "codemirror_mode": {
    "name": "ipython",
    "version": 2
   },
   "file_extension": ".py",
   "mimetype": "text/x-python",
   "name": "python",
   "nbconvert_exporter": "python",
   "pygments_lexer": "ipython2",
   "version": "2.7.6"
  }
 },
 "nbformat": 4,
 "nbformat_minor": 5
}
