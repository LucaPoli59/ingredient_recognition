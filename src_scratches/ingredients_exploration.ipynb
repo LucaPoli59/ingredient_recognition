{
 "cells": [
  {
   "cell_type": "code",
   "id": "9d944236a0187cf5",
   "metadata": {
    "ExecuteTime": {
     "end_time": "2024-09-02T10:13:11.655032Z",
     "start_time": "2024-09-02T10:13:09.645209Z"
    }
   },
   "source": [
    "import pandas as pd\n",
    "import json\n",
    "from settings.config import *"
   ],
   "outputs": [],
   "execution_count": 1
  },
  {
   "metadata": {
    "ExecuteTime": {
     "end_time": "2024-09-02T10:13:13.344775Z",
     "start_time": "2024-09-02T10:13:11.676034Z"
    }
   },
   "cell_type": "code",
   "source": [
    "\n",
    "# for category in os.listdir(RAW_YUMMLY_IMAGES_PATH):\n",
    "#     print(len(os.listdir(os.path.join(RAW_YUMMLY_IMAGES_PATH, category))))\n",
    "\n",
    "path = YUMMLY_PATH\n",
    "train_recipes = pd.DataFrame(json.load(open(os.path.join(path, 'train', METADATA_FILENAME))))\n",
    "val_recipes = pd.DataFrame(json.load(open(os.path.join(path, 'val', METADATA_FILENAME))))\n",
    "test_recipes = pd.DataFrame(json.load(open(os.path.join(path, 'test', METADATA_FILENAME))))"
   ],
   "id": "9af7fffbd3c493f7",
   "outputs": [],
   "execution_count": 2
  },
  {
   "metadata": {
    "collapsed": true,
    "ExecuteTime": {
     "end_time": "2024-09-02T10:15:27.863479Z",
     "start_time": "2024-09-02T10:15:27.756479Z"
    }
   },
   "cell_type": "code",
   "source": [
    "\n",
    "normalize = False\n",
    "\n",
    "train_count = train_recipes['ingredients_ok'].explode().value_counts(normalize=normalize)\n",
    "val_count = val_recipes['ingredients_ok'].explode().value_counts(normalize=normalize)\n",
    "test_count = test_recipes['ingredients_ok'].explode().value_counts(normalize=normalize)\n",
    "\n",
    "print(train_count, \"\\n\\n\")\n",
    "print(val_count, \"\\n\\n\")\n",
    "print(test_count, \"\\n\\n\")"
   ],
   "id": "initial_id",
   "outputs": [
    {
     "name": "stdout",
     "output_type": "stream",
     "text": [
      "ingredients_ok\n",
      "salt              33985\n",
      "oil               30007\n",
      "pepper            26638\n",
      "garlic            24494\n",
      "onion             23404\n",
      "                  ...  \n",
      "cherry               79\n",
      "tomate               77\n",
      "chestnut             74\n",
      "ancho chiles         61\n",
      "serrano chiles       55\n",
      "Name: count, Length: 182, dtype: int64 \n",
      "\n",
      "\n",
      "ingredients_ok\n",
      "salt                   3231\n",
      "oil                    2827\n",
      "pepper                 2543\n",
      "garlic                 2301\n",
      "onion                  2240\n",
      "                       ... \n",
      "strawberry                5\n",
      "serrano chiles            5\n",
      "cherry                    4\n",
      "garam masala powder       4\n",
      "pizza dough               4\n",
      "Name: count, Length: 182, dtype: int64 \n",
      "\n",
      "\n",
      "ingredients_ok\n",
      "salt              3224\n",
      "oil               2873\n",
      "pepper            2511\n",
      "garlic            2330\n",
      "onion             2207\n",
      "                  ... \n",
      "chestnut             6\n",
      "lobster              5\n",
      "ancho chiles         5\n",
      "cherry               3\n",
      "serrano chiles       3\n",
      "Name: count, Length: 182, dtype: int64 \n",
      "\n",
      "\n"
     ]
    }
   ],
   "execution_count": 7
  },
  {
   "metadata": {
    "ExecuteTime": {
     "end_time": "2024-09-02T10:15:29.082867Z",
     "start_time": "2024-09-02T10:15:29.062874Z"
    }
   },
   "cell_type": "code",
   "source": "train_count.describe()",
   "id": "a4d439fb46d61fca",
   "outputs": [
    {
     "data": {
      "text/plain": [
       "count      182.000000\n",
       "mean      2746.043956\n",
       "std       5201.015797\n",
       "min         55.000000\n",
       "25%        284.000000\n",
       "50%        883.500000\n",
       "75%       2682.250000\n",
       "max      33985.000000\n",
       "Name: count, dtype: float64"
      ]
     },
     "execution_count": 8,
     "metadata": {},
     "output_type": "execute_result"
    }
   ],
   "execution_count": 8
  },
  {
   "metadata": {},
   "cell_type": "code",
   "outputs": [],
   "execution_count": null,
   "source": "",
   "id": "3c02056a897b3bb5"
  }
 ],
 "metadata": {
  "kernelspec": {
   "display_name": "Python 3",
   "language": "python",
   "name": "python3"
  },
  "language_info": {
   "codemirror_mode": {
    "name": "ipython",
    "version": 2
   },
   "file_extension": ".py",
   "mimetype": "text/x-python",
   "name": "python",
   "nbconvert_exporter": "python",
   "pygments_lexer": "ipython2",
   "version": "2.7.6"
  }
 },
 "nbformat": 4,
 "nbformat_minor": 5
}
